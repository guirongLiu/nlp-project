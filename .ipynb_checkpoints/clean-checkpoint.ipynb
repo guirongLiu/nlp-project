{
 "cells": [
  {
   "cell_type": "code",
   "execution_count": 1,
   "metadata": {},
   "outputs": [],
   "source": [
    "import pandas as pd\n",
    "import numpy as np\n"
   ]
  },
  {
   "cell_type": "markdown",
   "metadata": {},
   "source": [
    "# Step 1: have a whole view of data\n",
    "According the view, we will decide what to do next. "
   ]
  },
  {
   "cell_type": "code",
   "execution_count": 2,
   "metadata": {},
   "outputs": [
    {
     "name": "stdout",
     "output_type": "stream",
     "text": [
      "   id  qid1  qid2                                          question1  \\\n",
      "0   0     1     2  What is the step by step guide to invest in sh...   \n",
      "1   1     3     4  What is the story of Kohinoor (Koh-i-Noor) Dia...   \n",
      "2   2     5     6  How can I increase the speed of my internet co...   \n",
      "3   3     7     8  Why am I mentally very lonely? How can I solve...   \n",
      "4   4     9    10  Which one dissolve in water quikly sugar, salt...   \n",
      "\n",
      "                                           question2  is_duplicate  \n",
      "0  What is the step by step guide to invest in sh...             0  \n",
      "1  What would happen if the Indian government sto...             0  \n",
      "2  How can Internet speed be increased by hacking...             0  \n",
      "3  Find the remainder when [math]23^{24}[/math] i...             0  \n",
      "4            Which fish would survive in salt water?             0  \n",
      "            id    qid1    qid2  \\\n",
      "404285  404285  433578  379845   \n",
      "404286  404286   18840  155606   \n",
      "404287  404287  537928  537929   \n",
      "404288  404288  537930  537931   \n",
      "404289  404289  537932  537933   \n",
      "\n",
      "                                                question1  \\\n",
      "404285  How many keywords are there in the Racket prog...   \n",
      "404286          Do you believe there is life after death?   \n",
      "404287                                  What is one coin?   \n",
      "404288  What is the approx annual cost of living while...   \n",
      "404289              What is like to have sex with cousin?   \n",
      "\n",
      "                                                question2  is_duplicate  \n",
      "404285  How many keywords are there in PERL Programmin...             0  \n",
      "404286         Is it true that there is life after death?             1  \n",
      "404287                                  What's this coin?             0  \n",
      "404288  I am having little hairfall problem but I want...             0  \n",
      "404289      What is it like to have sex with your cousin?             0  \n"
     ]
    }
   ],
   "source": [
    "df = pd.read_csv('train.csv', encoding = \"ISO-8859-1\")\n",
    "print(df.head())\n",
    "print(df.tail())"
   ]
  },
  {
   "cell_type": "markdown",
   "metadata": {},
   "source": [
    "# Step 2: Choose a meaningful and unique index\n",
    "According to the view above, we guess the 'id' column may be unique, and it can be used as index. "
   ]
  },
  {
   "cell_type": "code",
   "execution_count": 3,
   "metadata": {},
   "outputs": [
    {
     "data": {
      "text/plain": [
       "True"
      ]
     },
     "execution_count": 3,
     "metadata": {},
     "output_type": "execute_result"
    }
   ],
   "source": [
    "df['id'].is_unique"
   ]
  },
  {
   "cell_type": "code",
   "execution_count": 4,
   "metadata": {},
   "outputs": [],
   "source": [
    "df.set_index('id', inplace = True)"
   ]
  },
  {
   "cell_type": "markdown",
   "metadata": {},
   "source": [
    "# Step 3: Deal with missing data\n",
    "* First, figure it out which columns have missing data \n",
    "* Second, decide what to do with the missing data accordingly.\n"
   ]
  },
  {
   "cell_type": "code",
   "execution_count": 5,
   "metadata": {},
   "outputs": [
    {
     "name": "stdout",
     "output_type": "stream",
     "text": [
      "qid1            False\n",
      "qid2            False\n",
      "question1        True\n",
      "question2        True\n",
      "is_duplicate    False\n",
      "dtype: bool\n"
     ]
    },
    {
     "data": {
      "text/html": [
       "<div>\n",
       "<style scoped>\n",
       "    .dataframe tbody tr th:only-of-type {\n",
       "        vertical-align: middle;\n",
       "    }\n",
       "\n",
       "    .dataframe tbody tr th {\n",
       "        vertical-align: top;\n",
       "    }\n",
       "\n",
       "    .dataframe thead th {\n",
       "        text-align: right;\n",
       "    }\n",
       "</style>\n",
       "<table border=\"1\" class=\"dataframe\">\n",
       "  <thead>\n",
       "    <tr style=\"text-align: right;\">\n",
       "      <th></th>\n",
       "      <th>qid1</th>\n",
       "      <th>qid2</th>\n",
       "      <th>question1</th>\n",
       "      <th>question2</th>\n",
       "      <th>is_duplicate</th>\n",
       "    </tr>\n",
       "    <tr>\n",
       "      <th>id</th>\n",
       "      <th></th>\n",
       "      <th></th>\n",
       "      <th></th>\n",
       "      <th></th>\n",
       "      <th></th>\n",
       "    </tr>\n",
       "  </thead>\n",
       "  <tbody>\n",
       "    <tr>\n",
       "      <th>105780</th>\n",
       "      <td>174363</td>\n",
       "      <td>174364</td>\n",
       "      <td>How can I develop android app?</td>\n",
       "      <td>NaN</td>\n",
       "      <td>0</td>\n",
       "    </tr>\n",
       "    <tr>\n",
       "      <th>201841</th>\n",
       "      <td>303951</td>\n",
       "      <td>174364</td>\n",
       "      <td>How can I create an Android app?</td>\n",
       "      <td>NaN</td>\n",
       "      <td>0</td>\n",
       "    </tr>\n",
       "    <tr>\n",
       "      <th>363362</th>\n",
       "      <td>493340</td>\n",
       "      <td>493341</td>\n",
       "      <td>NaN</td>\n",
       "      <td>My Chinese name is Haichao Yu. What English na...</td>\n",
       "      <td>0</td>\n",
       "    </tr>\n",
       "  </tbody>\n",
       "</table>\n",
       "</div>"
      ],
      "text/plain": [
       "          qid1    qid2                         question1  \\\n",
       "id                                                         \n",
       "105780  174363  174364    How can I develop android app?   \n",
       "201841  303951  174364  How can I create an Android app?   \n",
       "363362  493340  493341                               NaN   \n",
       "\n",
       "                                                question2  is_duplicate  \n",
       "id                                                                       \n",
       "105780                                                NaN             0  \n",
       "201841                                                NaN             0  \n",
       "363362  My Chinese name is Haichao Yu. What English na...             0  "
      ]
     },
     "execution_count": 5,
     "metadata": {},
     "output_type": "execute_result"
    }
   ],
   "source": [
    "print(df.isnull().any())\n",
    "df[df.isnull().values==True]"
   ]
  },
  {
   "cell_type": "markdown",
   "metadata": {},
   "source": [
    "Luckily, there are only three rows with missing data, so we can just drop them."
   ]
  },
  {
   "cell_type": "code",
   "execution_count": 6,
   "metadata": {},
   "outputs": [],
   "source": [
    "df = df.dropna()"
   ]
  },
  {
   "cell_type": "markdown",
   "metadata": {},
   "source": [
    "# Step 4:Deal with wrong values\n",
    "In this case, 'is_duplicate' column can only take the value '0' or '1'. We can count the occurences of each value first."
   ]
  },
  {
   "cell_type": "code",
   "execution_count": 7,
   "metadata": {},
   "outputs": [
    {
     "data": {
      "text/plain": [
       "0    255024\n",
       "1    149263\n",
       "Name: is_duplicate, dtype: int64"
      ]
     },
     "execution_count": 7,
     "metadata": {},
     "output_type": "execute_result"
    }
   ],
   "source": [
    "df['is_duplicate'].value_counts()"
   ]
  },
  {
   "cell_type": "markdown",
   "metadata": {},
   "source": [
    "Luckily, there are no wrong values for 'is_duplicate' column "
   ]
  },
  {
   "cell_type": "markdown",
   "metadata": {},
   "source": [
    "# Step 5: Remove whitespaces and '\\n' of strings. "
   ]
  },
  {
   "cell_type": "code",
   "execution_count": 8,
   "metadata": {},
   "outputs": [
    {
     "data": {
      "text/plain": [
       "id\n",
       "0         What is the step by step guide to invest in sh...\n",
       "1         What would happen if the Indian government sto...\n",
       "2         How can Internet speed be increased by hacking...\n",
       "3         Find the remainder when [math]23^{24}[/math] i...\n",
       "4                   Which fish would survive in salt water?\n",
       "5         I'm a triple Capricorn (Sun, Moon and ascendan...\n",
       "6         What keeps childern active and far from phone ...\n",
       "7                 What should I do to be a great geologist?\n",
       "8                     When do you use \"&\" instead of \"and\"?\n",
       "9         How do I hack Motorola DCX3400 for free internet?\n",
       "10        What are some of the things technicians can te...\n",
       "11                   How can I see all my Youtube comments?\n",
       "12                  How can you make physics easy to learn?\n",
       "13                   What was your first sexual experience?\n",
       "14        What are the laws to change your status from a...\n",
       "15        How will a Trump presidency affect the student...\n",
       "16                            What does manipulation means?\n",
       "17                 How do guys feel after rejecting a girl?\n",
       "18        Why do people ask Quora questions which can be...\n",
       "19        Which is the best digital marketing institute ...\n",
       "20              Why are rockets and boosters painted white?\n",
       "21         What can I do to avoid being jealous of someone?\n",
       "22                    Which question should I ask on Quora?\n",
       "23        Where can I find a conversion chart for CC to ...\n",
       "24        How many times a day do a clockâs hands over...\n",
       "25        What are some tips on making it through the jo...\n",
       "26                   What is the web application framework?\n",
       "27                 How do sports contribute to the society?\n",
       "28                What is best way to ask for money online?\n",
       "29        How one should know that he/she completely pre...\n",
       "                                ...                        \n",
       "404260             What is the best phone to buy below 15k?\n",
       "404261    Who is the most popular character in the Game ...\n",
       "404262                     How do I reset a Toshiba laptop?\n",
       "404263    Why does CO2 contribute more to global warming...\n",
       "404264           How do I make a safe and cheap power bank?\n",
       "404265                    What should I eat to gain weight?\n",
       "404266    My boyfriend says he deleted his Facebook Mess...\n",
       "404267    What were the most important causes and effect...\n",
       "404268         Should I raise my young child on 80's music?\n",
       "404269    What Does It Feel Like to have antisocial pers...\n",
       "404270        What is the difference between \"&\" and \"and\"?\n",
       "404271    What was Joseph Stalin's 5 year plan? How did ...\n",
       "404272    What are some mind-blowing vehicles tools that...\n",
       "404273    What would happen if I put milk instead of wat...\n",
       "404274    What kind of parents will the next generation ...\n",
       "404275    What is a utilities expense in accounting? How...\n",
       "404276                             What is ContenVania.com?\n",
       "404277                     What are analytical people like?\n",
       "404278    How did you prepare for the AIIMS UG entrance ...\n",
       "404279    What is a cheaper and quicker way to build an ...\n",
       "404280    What are some outfit ideas wear to a frat them...\n",
       "404281    Why is Manaphy annoying in Pokemon ranger and ...\n",
       "404282      How are long distance relationships maintained?\n",
       "404283    What will the CPU upgrade to the 2016 Apple Ma...\n",
       "404284    What does Jainism say about Gays and Homosexua...\n",
       "404285    How many keywords are there in PERL Programmin...\n",
       "404286           Is it true that there is life after death?\n",
       "404287                                    What's this coin?\n",
       "404288    I am having little hairfall problem but I want...\n",
       "404289        What is it like to have sex with your cousin?\n",
       "Name: question2, Length: 404287, dtype: object"
      ]
     },
     "execution_count": 8,
     "metadata": {},
     "output_type": "execute_result"
    }
   ],
   "source": [
    "df['question1'].str.strip()\n",
    "df['question2'].str.strip()"
   ]
  },
  {
   "cell_type": "markdown",
   "metadata": {},
   "source": [
    "# Stpe 6: more specific cleaning \n",
    "Observing that 'qid1' column and 'qid2' column are comparable, and they are realted to each other closely. We can adjust the data to make it possible that qid1 is always smaller than qid2 for each row. "
   ]
  },
  {
   "cell_type": "code",
   "execution_count": 9,
   "metadata": {},
   "outputs": [
    {
     "name": "stdout",
     "output_type": "stream",
     "text": [
      "88201\n",
      "316086\n",
      "0\n",
      "404287\n",
      "True\n"
     ]
    }
   ],
   "source": [
    "print(len(df[df['qid1'] > df['qid2']]))\n",
    "print(len(df[df['qid1'] < df['qid2']]))\n",
    "# help(df.iterrows)\n",
    "df1 = df[df['qid1'] < df['qid2']].copy()\n",
    "df2 = df.loc[df['qid1'] > df['qid2']].copy()\n",
    "c1,c2,c3,c4= df2['qid1'].copy(),df2['qid2'].copy(),df2['question1'].copy(),df2['question2'].copy()\n",
    "c2 = df2['qid2'].copy()\n",
    "df2['qid1'],df2['qid2'],df2['question1'],df2['question2'] = c2, c1,c4, c3\n",
    "df3 = pd.concat([df1,df2])\n",
    "print(len(df3[df3['qid1'] > df3['qid2']]))\n",
    "print(len(df3[df3['qid1'] < df3['qid2']]))\n",
    "print(df3.set_index(['qid1','qid2']).index.is_unique)\n",
    "df = df3"
   ]
  },
  {
   "cell_type": "code",
   "execution_count": 10,
   "metadata": {},
   "outputs": [],
   "source": [
    "df.to_csv('cleaned_data.csv')"
   ]
  }
 ],
 "metadata": {
  "kernelspec": {
   "display_name": "Python 3",
   "language": "python",
   "name": "python3"
  },
  "language_info": {
   "codemirror_mode": {
    "name": "ipython",
    "version": 3
   },
   "file_extension": ".py",
   "mimetype": "text/x-python",
   "name": "python",
   "nbconvert_exporter": "python",
   "pygments_lexer": "ipython3",
   "version": "3.7.0"
  }
 },
 "nbformat": 4,
 "nbformat_minor": 2
}
